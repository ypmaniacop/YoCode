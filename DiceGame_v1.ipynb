{
 "cells": [
  {
   "cell_type": "code",
   "execution_count": null,
   "id": "f0d1d04c-2e8e-43a3-b197-b0ca6ac0f356",
   "metadata": {},
   "outputs": [
    {
     "name": "stdout",
     "output_type": "stream",
     "text": [
      "Welcome to the Dice game: Highest sum of 5 rolled dice wins a point each round!\n"
     ]
    }
   ],
   "source": [
    "# put your code here \n",
    "import random\n",
    "\n",
    "def show_stats(player_win, computer_win, tie):\n",
    "    print(\"\\nGame Statistics:\")\n",
    "    print(\" Rounds:\", games)\n",
    "    print(\" Player wins:\",sum(player_win),\"\\n\",\"Computer wins:\" ,sum(computer_win),\"\\n\",\"Ties:\",sum(tie))\n",
    "    if sum(player_win) > sum(computer_win):\n",
    "        print(\"\\nYOU'RE A WINNER!!\")\n",
    "    elif sum(player_win) == sum(computer_win):\n",
    "        print(\"\\nIT'S A TIE!\")\n",
    "    else:\n",
    "        print(\"\\nYOU'RE A LOSER!!\")\n",
    "    \n",
    "print(\"Welcome to the Dice game: Highest sum of 5 rolled dice wins a point each round!\")\n",
    "games = int(input(\"How many rounds would you like to play?\"))\n",
    "\n",
    "player_win = []\n",
    "computer_win = []\n",
    "tie = []\n",
    "num_rounds = games\n",
    "rolls = 0\n",
    "\n",
    "for rounds in range(1, num_rounds + 1):\n",
    "        pwin = 0\n",
    "        cwin = 0\n",
    "        same = 0\n",
    "        input(\"Press Enter to roll the dice...\")\n",
    "        print(\"ROUND #\", rolls + 1)\n",
    "        dice1 = [0,0,0,0,0,0]\n",
    "        for i in range(5):\n",
    "            dice1[i] = random.randint(1,6)\n",
    "        dice2 = [0,0,0,0,0,0]\n",
    "        for i in range(5):\n",
    "            dice2[i] = random.randint(1,6)\n",
    "        print(\" you rolled\",dice1,\"=\",sum(dice1),\"\\n\",\"computer rolled\",dice2,\"=\",sum(dice2))\n",
    "        if sum(dice1) > sum(dice2):\n",
    "            print(\" YOU WIN!\")\n",
    "            pwin += 1\n",
    "        if sum(dice1) < sum (dice2):\n",
    "            print(\" YOU LOSE!\")\n",
    "            cwin += 1\n",
    "        if sum(dice1) == sum (dice2):\n",
    "            print(\" YOU TIED!\")\n",
    "            same += 1\n",
    "            \n",
    "        rolls += 1\n",
    "            \n",
    "        player_win.append(pwin)\n",
    "        computer_win.append(cwin)\n",
    "        tie.append(same)\n",
    "        \n",
    "        \n",
    "show_stats(player_win, computer_win, tie)\n",
    "print(\"\\nThank you for playing!\")"
   ]
  },
  {
   "cell_type": "code",
   "execution_count": null,
   "id": "5a12a0cd-e354-416f-b0e1-93e124d9a4fb",
   "metadata": {},
   "outputs": [],
   "source": []
  }
 ],
 "metadata": {
  "kernelspec": {
   "display_name": "Python 3 (ipykernel)",
   "language": "python",
   "name": "python3"
  },
  "language_info": {
   "codemirror_mode": {
    "name": "ipython",
    "version": 3
   },
   "file_extension": ".py",
   "mimetype": "text/x-python",
   "name": "python",
   "nbconvert_exporter": "python",
   "pygments_lexer": "ipython3",
   "version": "3.11.5"
  }
 },
 "nbformat": 4,
 "nbformat_minor": 5
}
