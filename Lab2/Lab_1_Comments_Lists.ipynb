{
 "cells": [
  {
   "cell_type": "markdown",
   "id": "ac613382-acda-4f55-909d-5deb9a1afbda",
   "metadata": {},
   "source": [
    "# Lists\n",
    "\n",
    "## Background\n",
    "Lists are one of the most commonly used data structures in Python and are very similar to arrays from other programming languages. A list can store many items or values inside of one overall object or structure, unlike a variable which can only store one item or value inside one object. \n",
    "\n",
    "The items in a list can be accessed by using what is called an “index” value, which simply refers to the position of a certain item inside of a list, as lists are ordered from item 0 to the number of elements - 1. Therefore a list with 5 elements will have index positions 0 through 4. \n",
    "\n",
    "Any data can be stored inside a list, numbers, strings, or objects, but it is common practice to only have one data type per list. Therefore if my list has integers, it would ONLY have integers, not strings, doubles, objects, etc."
   ]
  },
  {
   "cell_type": "markdown",
   "id": "c0e77989-3dbb-4106-b49b-f8dfa5bfeab5",
   "metadata": {},
   "source": [
    "## Mini-project - Guessing game\n",
    "Create a number guessing game and set a secret number at the beginning of the program. \n",
    "The program will ask the player to enter a number to guess what the number is, then it’ll inform the player if they got it right or wrong."
   ]
  },
  {
   "cell_type": "code",
   "execution_count": null,
   "id": "4ff13200-3b6b-4173-8416-fa65d2234d9e",
   "metadata": {},
   "outputs": [],
   "source": [
    "# put your code here\n",
    "import random\n",
    "\n",
    "number = random.randint(1,10)\n",
    "guess = 0\n",
    "\n",
    "print(\"Welcome to the guessing game!\")\n",
    "    \n",
    "while guess != number: \n",
    "        \n",
    "        guess = int(input(\"Guess the a number from 1 through 10\"))\n",
    "         \n",
    "        if guess == number:\n",
    "            print(\"you are right!\")\n",
    "        else: \n",
    "            print(\"number is wrong\")\n",
    "            print(\"The number was \", number)\n",
    "        break"
   ]
  },
  {
   "cell_type": "markdown",
   "id": "4584cbfd-289d-4f0d-a899-06d90d69e3fe",
   "metadata": {},
   "source": [
    "## Mini-Project - Dice Roll\n",
    "\n",
    "Part 1:\n",
    "Create a random number generator using dice. \n",
    "You must create at least 5 dice\n",
    "The game must use conditionals (If, Else, Elif)\n",
    "The game must use nested conditionals (if 0=0:if 1=1: do something)\n",
    "\n",
    "What lists should we create for the project?\n",
    "How many loops do we need?\n",
    "\n",
    "Part 2:\n",
    "Create a list to store your gameplay. \n",
    "Create at least 2 lists to store your game statistics.\n",
    "\n",
    "Part 3:\n",
    "At the end of the output your gameplay statistics\n",
    "\n",
    "Part 4:\n",
    "Exchange code with your partner and begin adding comments on improvements (save your original version)\n",
    "\n",
    "Part 5:\n",
    "Return the code and create a comparison \n",
    "\n",
    "Part 6:\n",
    "Upload the code and comparison it to Canvas. "
   ]
  },
  {
   "cell_type": "code",
   "execution_count": 1,
   "id": "c1a378f3-4f8f-44c6-9181-8c2030ecc6ac",
   "metadata": {
    "tags": []
   },
   "outputs": [
    {
     "name": "stdout",
     "output_type": "stream",
     "text": [
      "Welcome to the Dice game: Highest sum of 5 rolled dice wins a point each round!\n"
     ]
    },
    {
     "name": "stdin",
     "output_type": "stream",
     "text": [
      "How many rounds would you like to play? 4\n",
      "Press Enter to roll the dice... \n"
     ]
    },
    {
     "name": "stdout",
     "output_type": "stream",
     "text": [
      "ROUND # 1\n",
      " you rolled [3, 4, 4, 3, 6, 0] = 20 \n",
      " computer rolled [1, 3, 2, 4, 6, 0] = 16\n",
      " YOU WIN!\n"
     ]
    },
    {
     "name": "stdin",
     "output_type": "stream",
     "text": [
      "Press Enter to roll the dice... \n"
     ]
    },
    {
     "name": "stdout",
     "output_type": "stream",
     "text": [
      "ROUND # 2\n",
      " you rolled [3, 1, 3, 1, 3, 0] = 11 \n",
      " computer rolled [4, 4, 1, 4, 3, 0] = 16\n",
      " YOU LOSE!\n"
     ]
    },
    {
     "name": "stdin",
     "output_type": "stream",
     "text": [
      "Press Enter to roll the dice... \n"
     ]
    },
    {
     "name": "stdout",
     "output_type": "stream",
     "text": [
      "ROUND # 3\n",
      " you rolled [4, 3, 5, 5, 5, 0] = 22 \n",
      " computer rolled [5, 2, 5, 3, 1, 0] = 16\n",
      " YOU WIN!\n"
     ]
    },
    {
     "name": "stdin",
     "output_type": "stream",
     "text": [
      "Press Enter to roll the dice... \n"
     ]
    },
    {
     "name": "stdout",
     "output_type": "stream",
     "text": [
      "ROUND # 4\n",
      " you rolled [6, 6, 4, 5, 1, 0] = 22 \n",
      " computer rolled [6, 3, 3, 2, 4, 0] = 18\n",
      " YOU WIN!\n",
      "\n",
      "Game Statistics:\n",
      " Rounds: 4\n",
      " Player wins: 3 \n",
      " Computer wins: 1 \n",
      " Ties: 0\n",
      "\n",
      "YOU'RE A WINNER!!\n",
      "\n",
      "Thank you for playing!\n"
     ]
    }
   ],
   "source": [
    "# put your code here \n",
    "import random\n",
    "\n",
    "def show_stats(player_win, computer_win, tie): # I like the function you have created for the stats\n",
    "    print(\"\\nGame Statistics:\")\n",
    "    print(\" Rounds:\", games)\n",
    "    print(\" Player wins:\",sum(player_win),\"\\n\",\"Computer wins:\" ,sum(computer_win),\"\\n\",\"Ties:\",sum(tie))\n",
    "    if sum(player_win) > sum(computer_win):\n",
    "        print(\"\\nYOU'RE A WINNER!!\")\n",
    "    elif sum(player_win) == sum(computer_win):\n",
    "        print(\"\\nIT'S A TIE!\")\n",
    "    else:\n",
    "        print(\"\\nYOU'RE A LOSER!!\")\n",
    "    \n",
    "print(\"Welcome to the Dice game: Highest sum of 5 rolled dice wins a point each round!\")\n",
    "games = int(input(\"How many rounds would you like to play?\"))\n",
    "\n",
    "player_win = []\n",
    "computer_win = []\n",
    "tie = []\n",
    "num_rounds = games\n",
    "rolls = 0\n",
    "\n",
    "for rounds in range(1, num_rounds + 1):\n",
    "        pwin = 0\n",
    "        cwin = 0\n",
    "        same = 0\n",
    "        input(\"Press Enter to roll the dice...\")\n",
    "        print(\"ROUND #\", rolls + 1)\n",
    "        dice1 = [0,0,0,0,0,0] # can just be dice1=[]\n",
    "        for i in range(5):\n",
    "            dice1[i] = random.randint(1,6)\n",
    "        dice2 = [0,0,0,0,0,0] # same comment as above. Also, you can use the same for loop for the comp and user dice roll\n",
    "        for i in range(5):\n",
    "            dice2[i] = random.randint(1,6)\n",
    "        print(\" you rolled\",dice1,\"=\",sum(dice1),\"\\n\",\"computer rolled\",dice2,\"=\",sum(dice2))\n",
    "        if sum(dice1) > sum(dice2): #can use a variable for the dice roll total for comp and user and compare instead of using sum but it works.\n",
    "            print(\" YOU WIN!\")\n",
    "            pwin += 1\n",
    "        if sum(dice1) < sum (dice2):\n",
    "            print(\" YOU LOSE!\")\n",
    "            cwin += 1\n",
    "        if sum(dice1) == sum (dice2):\n",
    "            print(\" YOU TIED!\")\n",
    "            same += 1\n",
    "            \n",
    "        rolls += 1\n",
    "            \n",
    "        player_win.append(pwin)\n",
    "        computer_win.append(cwin)\n",
    "        tie.append(same)\n",
    "        \n",
    "        \n",
    "show_stats(player_win, computer_win, tie)\n",
    "print(\"\\nThank you for playing!\")"
   ]
  },
  {
   "cell_type": "markdown",
   "id": "024a25d5-cb96-44be-9e7c-cb852c12f272",
   "metadata": {},
   "source": [
    "## Sample code\n",
    "Below you will find a Chat GPT generated Dice game.\n",
    "\n",
    "Lets talk about it. "
   ]
  },
  {
   "cell_type": "code",
   "execution_count": null,
   "id": "22a730ba-7ed0-4f65-8e31-fdaee97e43a3",
   "metadata": {},
   "outputs": [],
   "source": [
    "import random\n",
    "\n",
    "def roll_dice():\n",
    "    return random.randint(1, 6)\n",
    "\n",
    "def main():\n",
    "    print(\"Welcome to the Dice Rolling Game!\")\n",
    "    print(\"You and the computer will each roll a dice, and the one with the higher number wins.\")\n",
    "\n",
    "    while True:\n",
    "        input(\"Press Enter to roll the dice...\")\n",
    "        \n",
    "        user_roll = roll_dice()\n",
    "        computer_roll = roll_dice()\n",
    "\n",
    "        print(\"You rolled:\", user_roll)\n",
    "        print(\"Computer rolled:\", computer_roll)\n",
    "\n",
    "        if user_roll > computer_roll:\n",
    "            print(\"Congratulations! You win!\")\n",
    "        elif user_roll < computer_roll:\n",
    "            print(\"Sorry, you lost. Better luck next time!\")\n",
    "        else:\n",
    "            print(\"It's a tie!\")\n",
    "\n",
    "        play_again = input(\"Do you want to play again? (yes/no): \").lower()\n",
    "        if play_again != \"yes\":\n",
    "            print(\"Thanks for playing!\")\n",
    "            break\n",
    "\n",
    "if __name__ == \"__main__\":\n",
    "    main()"
   ]
  },
  {
   "cell_type": "code",
   "execution_count": null,
   "id": "31e6d976-765c-4a4a-848a-4fedaa2bf83a",
   "metadata": {},
   "outputs": [],
   "source": []
  }
 ],
 "metadata": {
  "kernelspec": {
   "display_name": "Python 3 (ipykernel)",
   "language": "python",
   "name": "python3"
  },
  "language_info": {
   "codemirror_mode": {
    "name": "ipython",
    "version": 3
   },
   "file_extension": ".py",
   "mimetype": "text/x-python",
   "name": "python",
   "nbconvert_exporter": "python",
   "pygments_lexer": "ipython3",
   "version": "3.11.5"
  }
 },
 "nbformat": 4,
 "nbformat_minor": 5
}
